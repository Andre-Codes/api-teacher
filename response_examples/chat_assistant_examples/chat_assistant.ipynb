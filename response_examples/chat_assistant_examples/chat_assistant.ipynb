{
 "cells": [
  {
   "cell_type": "code",
   "execution_count": 1,
   "metadata": {},
   "outputs": [],
   "source": [
    "import gpt_service as gpt"
   ]
  },
  {
   "cell_type": "code",
   "execution_count": 2,
   "metadata": {},
   "outputs": [],
   "source": [
    "help_ = gpt.CodeTutor(role_context=\"code_help\", \n",
    "                       explain_level='concise', \n",
    "                       comment_level='verbose')"
   ]
  },
  {
   "cell_type": "code",
   "execution_count": 11,
   "metadata": {},
   "outputs": [],
   "source": [
    "prompt = \"\"\"\n",
    "i need a function that finds the numerical\n",
    "column of a pandas dataframe, then changes the value\n",
    "to a number between 90 and 95, only if the value \n",
    "in column 'grade' is not 'A'\n",
    "\"\"\""
   ]
  },
  {
   "cell_type": "code",
   "execution_count": 12,
   "metadata": {},
   "outputs": [
    {
     "data": {
      "text/markdown": [
       "# Finding and Changing Numerical Column Values in Pandas DataFrame\n",
       "\n",
       "## Summary\n",
       "The question is asking for a function that can find the numerical column of a pandas DataFrame and change the values to a number between 90 and 95, but only if the value in the 'grade' column is not 'A'.\n",
       "\n",
       "## Solution\n",
       "Here is a possible solution using Python and pandas:\n",
       "\n",
       "```python\n",
       "import pandas as pd\n",
       "import numpy as np\n",
       "\n",
       "def change_numerical_values(df):\n",
       "    # Get the numerical columns\n",
       "    numerical_columns = df.select_dtypes(include=[np.number]).columns\n",
       "    \n",
       "    # Iterate over the numerical columns\n",
       "    for column in numerical_columns:\n",
       "        # Check if the 'grade' column is not 'A'\n",
       "        mask = df['grade'] != 'A'\n",
       "        \n",
       "        # Generate random numbers between 90 and 95\n",
       "        random_numbers = np.random.uniform(90, 95, size=df.shape[0])\n",
       "        \n",
       "        # Update the values in the numerical column\n",
       "        df.loc[mask, column] = random_numbers[mask]\n",
       "    \n",
       "    return df\n",
       "```\n",
       "\n",
       "## Example Usage\n",
       "Here are three examples of how to use the `change_numerical_values` function:\n",
       "\n",
       "```python\n",
       "# Example 1\n",
       "df1 = pd.DataFrame({'grade': ['A', 'B', 'C'], 'score': [80, 85, 90]})\n",
       "df1 = change_numerical_values(df1)\n",
       "print(df1)\n",
       "\n",
       "# Example 2\n",
       "df2 = pd.DataFrame({'grade': ['A', 'A', 'B'], 'score': [75, 80, 85]})\n",
       "df2 = change_numerical_values(df2)\n",
       "print(df2)\n",
       "\n",
       "# Example 3\n",
       "df3 = pd.DataFrame({'grade': ['B', 'B', 'B'], 'score': [70, 75, 80]})\n",
       "df3 = change_numerical_values(df3)\n",
       "print(df3)\n",
       "```\n",
       "\n",
       "## Sources\n",
       "- [pandas documentation](https://pandas.pydata.org/docs/)\n",
       "- [NumPy documentation](https://numpy.org/doc/)\n",
       "- [Stack Overflow - Selecting columns based on dtype](https://stackoverflow.com/questions/25039626/how-do-i-find-numeric-columns-in-pandas)"
      ],
      "text/plain": [
       "<IPython.core.display.Markdown object>"
      ]
     },
     "metadata": {},
     "output_type": "display_data"
    }
   ],
   "source": [
    "help_.get_response(prompt=prompt, format_style='markdown')"
   ]
  },
  {
   "cell_type": "markdown",
   "metadata": {},
   "source": [
    "***"
   ]
  },
  {
   "cell_type": "markdown",
   "metadata": {},
   "source": [
    "**END OF RESULT**"
   ]
  },
  {
   "cell_type": "markdown",
   "metadata": {},
   "source": [
    "***\n"
   ]
  },
  {
   "cell_type": "markdown",
   "metadata": {},
   "source": [
    "### Passing a list of PROMPTS & RESPONSES as the prompt"
   ]
  },
  {
   "cell_type": "markdown",
   "metadata": {},
   "source": [
    "In this example, we're passing an alternating list containing a prompt and an 'assistant' message. The first item is the original prompt, then the result of that prompt for context, and then a new prompt, typically a question related to the result of the first."
   ]
  },
  {
   "cell_type": "code",
   "execution_count": 13,
   "metadata": {},
   "outputs": [],
   "source": [
    "prompt2 = \"\"\"\n",
    "can you explain how the .loc method works in this example\n",
    "\"\"\""
   ]
  },
  {
   "cell_type": "code",
   "execution_count": 14,
   "metadata": {},
   "outputs": [],
   "source": [
    "prompt_response = help_.response_content"
   ]
  },
  {
   "cell_type": "code",
   "execution_count": 15,
   "metadata": {},
   "outputs": [],
   "source": [
    "messages = [prompt, prompt_response, prompt2]"
   ]
  },
  {
   "cell_type": "code",
   "execution_count": 16,
   "metadata": {},
   "outputs": [
    {
     "data": {
      "text/markdown": [
       "Certainly! In this example, the `.loc` method is used to select and update specific values in the DataFrame.\n",
       "\n",
       "The general syntax for using `.loc` is `df.loc[row_indexer, column_indexer]`, where `row_indexer` and `column_indexer` can be a single label, a list of labels, or a boolean array.\n",
       "\n",
       "In the provided solution, `.loc` is used to update the values in the numerical column based on a condition. Here's a breakdown of how it works:\n",
       "\n",
       "1. `df.loc[mask, column]` selects the values in the `column` that satisfy the condition specified by the boolean mask `mask`. In this case, `mask` is created by comparing the values in the 'grade' column to 'A' (`df['grade'] != 'A'`).\n",
       "\n",
       "2. `random_numbers[mask]` selects the random numbers generated between 90 and 95 that correspond to the rows where the condition is True.\n",
       "\n",
       "3. `df.loc[mask, column] = random_numbers[mask]` assigns the selected random numbers to the corresponding values in the numerical column, updating them.\n",
       "\n",
       "By using `.loc` with a boolean mask, we can selectively update values in the DataFrame based on a condition.\n",
       "\n",
       "I hope this explanation helps! Let me know if you have any further questions."
      ],
      "text/plain": [
       "<IPython.core.display.Markdown object>"
      ]
     },
     "metadata": {},
     "output_type": "display_data"
    }
   ],
   "source": [
    "help_.get_response(prompt=messages, format_style='markdown')"
   ]
  },
  {
   "cell_type": "code",
   "execution_count": null,
   "metadata": {},
   "outputs": [],
   "source": []
  }
 ],
 "metadata": {
  "kernelspec": {
   "display_name": "Python 3",
   "language": "python",
   "name": "python3"
  },
  "language_info": {
   "codemirror_mode": {
    "name": "ipython",
    "version": 3
   },
   "file_extension": ".py",
   "mimetype": "text/x-python",
   "name": "python",
   "nbconvert_exporter": "python",
   "pygments_lexer": "ipython3",
   "version": "3.10.11"
  },
  "orig_nbformat": 4
 },
 "nbformat": 4,
 "nbformat_minor": 2
}
