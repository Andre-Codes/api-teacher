{
 "cells": [
  {
   "cell_type": "markdown",
   "metadata": {},
   "source": [
    "### Description\n",
    "The sklearn OrdinalEncoder is used to encode categorical features into ordinal integers.\n",
    "\n",
    "### Parameters\n",
    "- `categories` (array-like, default='auto'): The categories of each feature. It can be 'auto' to automatically infer categories from the training data, or a list of arrays specifying the categories of each feature.\n",
    "- `dtype` (dtype, default=np.float64): The desired dtype of the output.\n",
    "\n",
    "### Attributes\n",
    "- `categories_` (list of arrays): The categories of each feature.\n",
    "- `dtype_` (dtype): The dtype of the output.\n",
    "\n",
    "### Examples\n",
    "```python\n",
    "from sklearn.preprocessing import OrdinalEncoder\n",
    "\n",
    "X = [['Male', 'Apple'], ['Female', 'Orange'], ['Female', 'Banana']]\n",
    "\n",
    "encoder = OrdinalEncoder()\n",
    "X_encoded = encoder.fit_transform(X)\n",
    "\n",
    "print(X_encoded)\n",
    "```\n",
    "Output:\n",
    "```\n",
    "[[1. 0.]\n",
    " [0. 2.]\n",
    " [0. 1.]]\n",
    "```"
   ]
  },
  {
   "cell_type": "markdown",
   "metadata": {},
   "source": []
  }
 ],
 "metadata": {
  "language_info": {
   "name": "python"
  },
  "orig_nbformat": 4
 },
 "nbformat": 4,
 "nbformat_minor": 2
}
