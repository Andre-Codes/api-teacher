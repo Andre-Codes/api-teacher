{
 "cells": [
  {
   "cell_type": "code",
   "execution_count": 1,
   "metadata": {},
   "outputs": [],
   "source": [
    "import gpt_service as gpt"
   ]
  },
  {
   "cell_type": "code",
   "execution_count": 2,
   "metadata": {},
   "outputs": [],
   "source": [
    "Py2R = gpt.GPTService(role_context='code_convert')"
   ]
  },
  {
   "cell_type": "code",
   "execution_count": 3,
   "metadata": {},
   "outputs": [],
   "source": [
    "Py2R.prompt = \"\"\"\n",
    "to R:\n",
    "\n",
    "# Loop 1: Generate 5 random numbers and store them in a list\n",
    "random_numbers = []\n",
    "for i in range(5):\n",
    "    random_numbers.append(random.randint(1, 100))\n",
    "print(\"Random Numbers:\", random_numbers)\n",
    "\n",
    "# Loop 2: Create a list of squares for each random number\n",
    "squares = []\n",
    "for num in random_numbers:\n",
    "    squares.append(num ** 2)\n",
    "print(\"Squares:\", squares)\n",
    "\n",
    "# Loop 3: Create a dictionary mapping each random number to its square\n",
    "num_to_square = {}\n",
    "for num, square in zip(random_numbers, squares):\n",
    "    num_to_square[num] = square\n",
    "print(\"Number to Square Mapping:\", num_to_square)\n",
    "\"\"\""
   ]
  },
  {
   "cell_type": "code",
   "execution_count": null,
   "metadata": {},
   "outputs": [],
   "source": [
    "Py2R.get_response(Py2R.prompt)"
   ]
  },
  {
   "cell_type": "code",
   "execution_count": 5,
   "metadata": {},
   "outputs": [
    {
     "data": {
      "text/markdown": [
       "# Translation to R:\n",
       "\n",
       "```R\n",
       "# Loop 1: Generate 5 random numbers and store them in a list\n",
       "random_numbers <- c()\n",
       "for (i in 1:5) {\n",
       "  random_numbers <- c(random_numbers, sample(1:100, 1))\n",
       "}\n",
       "print(\"Random Numbers:\", random_numbers)\n",
       "\n",
       "# Loop 2: Create a list of squares for each random number\n",
       "squares <- c()\n",
       "for (num in random_numbers) {\n",
       "  squares <- c(squares, num^2)\n",
       "}\n",
       "print(\"Squares:\", squares)\n",
       "\n",
       "# Loop 3: Create a dictionary mapping each random number to its square\n",
       "num_to_square <- list()\n",
       "for (i in 1:length(random_numbers)) {\n",
       "  num_to_square[random_numbers[i]] <- squares[i]\n",
       "}\n",
       "print(\"Number to Square Mapping:\", num_to_square)\n",
       "```\n",
       "\n",
       "| Python | R | Description |\n",
       "| --- | --- | --- |\n",
       "| `random_numbers = []` | `random_numbers <- c()` | Initialize an empty list |\n",
       "| `for i in range(5):` | `for (i in 1:5) {` | Loop from 1 to 5 |\n",
       "| `random_numbers.append(random.randint(1, 100))` | `random_numbers <- c(random_numbers, sample(1:100, 1))` | Add a random number between 1 and 100 to the list |\n",
       "| `print(\"Random Numbers:\", random_numbers)` | `print(\"Random Numbers:\", random_numbers)` | Print the list of random numbers |\n",
       "| `squares = []` | `squares <- c()` | Initialize an empty list |\n",
       "| `for num in random_numbers:` | `for (num in random_numbers) {` | Loop through each random number |\n",
       "| `squares.append(num ** 2)` | `squares <- c(squares, num^2)` | Add the square of the number to the list |\n",
       "| `print(\"Squares:\", squares)` | `print(\"Squares:\", squares)` | Print the list of squares |\n",
       "| `num_to_square = {}` | `num_to_square <- list()` | Initialize an empty dictionary |\n",
       "| `for num, square in zip(random_numbers, squares):` | `for (i in 1:length(random_numbers)) {` | Loop through the random numbers and squares |\n",
       "| `num_to_square[num] = square` | `num_to_square[random_numbers[i]] <- squares[i]` | Add the mapping of number to square to the dictionary |\n",
       "| `print(\"Number to Square Mapping:\", num_to_square)` | `print(\"Number to Square Mapping:\", num_to_square)` | Print the dictionary mapping |\n"
      ],
      "text/plain": [
       "<IPython.core.display.Markdown object>"
      ]
     },
     "metadata": {},
     "output_type": "display_data"
    }
   ],
   "source": [
    "Py2R.show()"
   ]
  }
 ],
 "metadata": {
  "kernelspec": {
   "display_name": "Python 3",
   "language": "python",
   "name": "python3"
  },
  "language_info": {
   "codemirror_mode": {
    "name": "ipython",
    "version": 3
   },
   "file_extension": ".py",
   "mimetype": "text/x-python",
   "name": "python",
   "nbconvert_exporter": "python",
   "pygments_lexer": "ipython3",
   "version": "3.11.3"
  },
  "orig_nbformat": 4
 },
 "nbformat": 4,
 "nbformat_minor": 2
}
