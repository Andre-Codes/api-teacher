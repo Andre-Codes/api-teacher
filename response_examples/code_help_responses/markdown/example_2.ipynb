{
 "cells": [
  {
   "cell_type": "code",
   "execution_count": 1,
   "metadata": {},
   "outputs": [],
   "source": [
    "import gpt_service as gpt"
   ]
  },
  {
   "cell_type": "code",
   "execution_count": 2,
   "metadata": {},
   "outputs": [],
   "source": [
    "help_ = gpt.GPTService(role_context=\"code_help\", explain_level='pedagogical', comment_level='verbose')"
   ]
  },
  {
   "cell_type": "code",
   "execution_count": 7,
   "metadata": {},
   "outputs": [],
   "source": [
    "prompt = \"\"\"\n",
    "i need a scalable, reusable function to take in a dataframe, fill null values with\n",
    "the average value of the column that the null is found. Then it needs to ensure any columns with\n",
    "numbers are as dtype int16, or if the number is very large, int64. Then convert columns\n",
    "with string values to dtype category. Lastly, add a new column for zip code, extracted from the\n",
    "address column, if it exists.\n",
    "\"\"\""
   ]
  },
  {
   "cell_type": "code",
   "execution_count": 8,
   "metadata": {},
   "outputs": [
    {
     "data": {
      "text/markdown": [
       "# Function to Clean and Transform DataFrame\n",
       "\n",
       "## Summary\n",
       "The function described below takes in a DataFrame and performs several cleaning and transformation steps. It fills null values with the average value of the column, converts numeric columns to the appropriate integer data type, converts string columns to the category data type, and adds a new column for zip code extracted from the address column if it exists.\n",
       "\n",
       "## Code\n",
       "\n",
       "```python\n",
       "import pandas as pd\n",
       "\n",
       "def clean_transform_dataframe(df):\n",
       "    # Fill null values with average value of the column\n",
       "    df = df.fillna(df.mean())\n",
       "    \n",
       "    # Convert numeric columns to integer data type\n",
       "    numeric_cols = df.select_dtypes(include=['int', 'float']).columns\n",
       "    for col in numeric_cols:\n",
       "        if df[col].max() < 32767:\n",
       "            df[col] = df[col].astype('int16')\n",
       "        else:\n",
       "            df[col] = df[col].astype('int64')\n",
       "    \n",
       "    # Convert string columns to category data type\n",
       "    string_cols = df.select_dtypes(include=['object']).columns\n",
       "    for col in string_cols:\n",
       "        df[col] = df[col].astype('category')\n",
       "    \n",
       "    # Extract zip code from address column if it exists\n",
       "    if 'address' in df.columns:\n",
       "        df['zip_code'] = df['address'].str.extract(r'(\\d{5})')\n",
       "    \n",
       "    return df\n",
       "```\n",
       "\n",
       "## Explanation\n",
       "1. The function takes in a DataFrame `df` as input.\n",
       "2. It fills null values in the DataFrame with the average value of the respective column using the `fillna()` method.\n",
       "3. It identifies numeric columns in the DataFrame using the `select_dtypes()` method with the `include` parameter set to `['int', 'float']`.\n",
       "4. For each numeric column, it checks the maximum value. If the maximum value is less than 32767, it converts the column to `int16` data type using the `astype()` method. Otherwise, it converts the column to `int64` data type.\n",
       "5. It identifies string columns in the DataFrame using the `select_dtypes()` method with the `include` parameter set to `['object']`.\n",
       "6. For each string column, it converts the column to `category` data type using the `astype()` method.\n",
       "7. If the DataFrame has an 'address' column, it extracts the zip code using regular expression pattern `(\\d{5})` and creates a new column 'zip_code' using the `str.extract()` method.\n",
       "8. Finally, the function returns the cleaned and transformed DataFrame.\n",
       "\n",
       "## Examples\n",
       "Here are a few examples of how to use the `clean_transform_dataframe()` function:\n",
       "\n",
       "```python\n",
       "# Example 1: Clean and transform a DataFrame\n",
       "df1 = pd.DataFrame({'col1': [1, 2, None, 4],\n",
       "                    'col2': [5.5, None, 7.5, 8.5],\n",
       "                    'col3': ['A', 'B', 'C', 'D'],\n",
       "                    'address': ['12345', '67890', '54321', '09876']})\n",
       "\n",
       "cleaned_df1 = clean_transform_dataframe(df1)\n",
       "print(cleaned_df1)\n",
       "\n",
       "# Example 2: Clean and transform another DataFrame\n",
       "df2 = pd.DataFrame({'col1': [None, 2, 3, 4],\n",
       "                    'col2': [5.5, 6.5, 7.5, 8.5],\n",
       "                    'col3': ['A', 'B', 'C', 'D'],\n",
       "                    'address': ['98765', '43210', '56789', '01234']})\n",
       "\n",
       "cleaned_df2 = clean_transform_dataframe(df2)\n",
       "print(cleaned_df2)\n",
       "```\n",
       "\n",
       "## Sources\n",
       "- [Pandas Documentation](https://pandas.pydata.org/docs/)\n",
       "- [Regular Expression Documentation](https://docs.python.org/3/library/re.html)\n",
       "- [NumPy Data Types](https://numpy.org/doc/stable/user/basics.types.html)"
      ],
      "text/plain": [
       "<IPython.core.display.Markdown object>"
      ]
     },
     "metadata": {},
     "output_type": "display_data"
    },
    {
     "name": "stdout",
     "output_type": "stream",
     "text": [
      "*****************\n"
     ]
    }
   ],
   "source": [
    "help_.get_response(prompt=prompt, format_style='markdown')"
   ]
  },
  {
   "cell_type": "code",
   "execution_count": null,
   "metadata": {},
   "outputs": [],
   "source": []
  }
 ],
 "metadata": {
  "kernelspec": {
   "display_name": "Python 3",
   "language": "python",
   "name": "python3"
  },
  "language_info": {
   "codemirror_mode": {
    "name": "ipython",
    "version": 3
   },
   "file_extension": ".py",
   "mimetype": "text/x-python",
   "name": "python",
   "nbconvert_exporter": "python",
   "pygments_lexer": "ipython3",
   "version": "3.10.11"
  },
  "orig_nbformat": 4
 },
 "nbformat": 4,
 "nbformat_minor": 2
}
